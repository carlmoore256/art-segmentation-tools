{
  "cells": [
    {
      "cell_type": "code",
      "execution_count": null,
      "metadata": {
        "cellView": "form",
        "id": "qRzBiZrQCuT4"
      },
      "outputs": [],
      "source": [
        "#@title Autoreload\n",
        "%load_ext autoreload\n",
        "%autoreload 2"
      ]
    },
    {
      "attachments": {},
      "cell_type": "markdown",
      "metadata": {
        "id": "QlRkP6Mc6R-J"
      },
      "source": [
        "## Python Art Segmentation Tools\n",
        "Segment an image of a painting or drawing into layers, and generate an SVG \"bundle\" that contains paths of each segment."
      ]
    },
    {
      "attachments": {},
      "cell_type": "markdown",
      "metadata": {
        "id": "sZtANwLp5_n_"
      },
      "source": [
        "### Step 1\n",
        "\n",
        "Clone the repo and run the setup script to install dependencies\n"
      ]
    },
    {
      "cell_type": "code",
      "execution_count": null,
      "metadata": {
        "colab": {
          "base_uri": "https://localhost:8080/"
        },
        "id": "HcONKWS_VXpC",
        "outputId": "9a6aac8b-5daa-4162-e52d-8336be18489d"
      },
      "outputs": [],
      "source": [
        "!git clone https://github.com/carlmoore256/art-segmentation-tools\n",
        "%cd /content/art-segmentation-tools\n",
        "!sh setup.sh"
      ]
    },
    {
      "attachments": {},
      "cell_type": "markdown",
      "metadata": {
        "id": "xlu7X_I_-9gR"
      },
      "source": [
        "## Step 2\n",
        "Imports"
      ]
    },
    {
      "cell_type": "code",
      "execution_count": null,
      "metadata": {
        "id": "RAfTAhBdaPdI"
      },
      "outputs": [],
      "source": [
        "%cd /content/art-segmentation-tools\n",
        "from segmentation import load_model\n",
        "from image import Image, alpha_blend_images\n",
        "from mask import Mask, AnnotationMask\n",
        "from segmented_image import SegmentedImage\n",
        "from segment_anything import SamAutomaticMaskGenerator\n",
        "from product import export_bundle\n",
        "# import sys\n",
        "# sys.path.append(\"/content/art-segmentation-tools/deepsvg\")"
      ]
    },
    {
      "attachments": {},
      "cell_type": "markdown",
      "metadata": {
        "id": "PLvTd0MO61XB"
      },
      "source": [
        "## Step 3\n",
        "Load the segmentation model from [Segment Anything](https://github.com/facebookresearch/segment-anything), and setup the mask generator with some segmentation parameters."
      ]
    },
    {
      "cell_type": "code",
      "execution_count": null,
      "metadata": {
        "id": "Gpupo9fPaXJb"
      },
      "outputs": [],
      "source": [
        "SEGMENTATION_MODEL = load_model()"
      ]
    },
    {
      "attachments": {},
      "cell_type": "markdown",
      "metadata": {
        "id": "PXz-mNx47fuL"
      },
      "source": [
        "From Segment Anything's [notebook](https://github.com/facebookresearch/segment-anything/blob/main/notebooks/automatic_mask_generator_example.ipynb) on automatic mask segmentation:\n",
        "\n",
        "> \"There are several tunable parameters in automatic mask generation that control how densely points are sampled and what the thresholds are for removing low quality or duplicate masks. Additionally, generation can be automatically run on crops of the image to get improved performance on smaller objects, and post-processing can remove stray pixels and holes.\"\n",
        "\n",
        "[Source for SamAutomaticMaskGenerator](https://github.com/facebookresearch/segment-anything/blob/6fdee8f2727f4506cfbbe553e23b895e27956588/segment_anything/automatic_mask_generator.py)"
      ]
    },
    {
      "cell_type": "code",
      "execution_count": null,
      "metadata": {
        "id": "anCGSz2Saew7"
      },
      "outputs": [],
      "source": [
        "mask_generator = SamAutomaticMaskGenerator(\n",
        "    model=SEGMENTATION_MODEL,\n",
        "    points_per_side=32,# (32) Number of points to be sampled along one side of the image. The total number of points is points_per_side**2. If None, 'point_grids' must provide explicit point sampling.\n",
        "    points_per_batch=64, # (64) Sets the number of points run simultaneously by the model. Higher numbers may be faster but use more GPU memory\n",
        "    pred_iou_thresh=0.85, # (0.88) A filtering threshold in [0,1], using the model's predicted mask quality\n",
        "    stability_score_thresh=0.92, # (0.95) A filtering threshold in [0,1], using the stability of the mask under changes to the cutoff used to binarize the model's mask predictions.\n",
        "    stability_score_offset=1.0, # (1.0) The amount to shift the cutoff when calculated the stability score\n",
        "    box_nms_thresh=0.7, # (0.7) The box IoU cutoff used by non-maximal suppression to filter duplicate masks.\n",
        "    crop_n_layers=1, # (0) If > 0, mask prediction will be run again on crops of the image. Sets the number of layers to run, where each layer has 2**i_layer number of image crops.\n",
        "    crop_nms_thresh=0.7, # (0.7) The box IoU cutoff used by non-maximal suppression to filter duplicate masks between different crops.\n",
        "    crop_overlap_ratio= 512 / 1500, # (512/1500, ~0.3413) Sets the degree to which crops overlap. In the first crop layer, crops will overlap by this fraction of the image length. Later layers with more crops scale down this overlap.\n",
        "    crop_n_points_downscale_factor=2, # (1) The number of points-per-side sampled in layer n is scaled down by crop_n_points_downscale_factor**n.\n",
        "    point_grids=None, # (None) A list over explicit grids of points used for sampling, normalized to [0,1]. The nth grid in the list is used in the nth crop layer. Exclusive with points_per_side\n",
        "    min_mask_region_area=100, # (0) If > 0, postprocessing will be applied to remove disconnected regions and holes in masks with area smaller than min_mask_region_area. Requires opencv.\n",
        "    output_mode=\"binary_mask\" # (\"binary_mask\")  The form masks are returned in. Can be 'binary_mask', 'uncompressed_rle', or 'coco_rle'. 'coco_rle' requires pycocotools. For large resolutions, 'binary_mask' may consume large amounts of memory.\n",
        ")\n",
        "\n",
        "# default mask generator\n",
        "# mask_generator = SamAutomaticMaskGenerator(SEGMENTATION_MODEL)"
      ]
    },
    {
      "attachments": {},
      "cell_type": "markdown",
      "metadata": {
        "id": "B4fIlM-u_P0p"
      },
      "source": [
        "## Step 4\n",
        "Load an image into the custom Image object included in this repo. Some notable features include:\n",
        "- `Image.resize(tuple)`\n",
        "- `Image.pad_to_square()`\n",
        "- `Image.show()`\n",
        "\n",
        "Images need to be padded to squares to work correctly with the tracing (this should be fixed in the future). Images should also be a reasonable size to not exceed the maximum GPU memory."
      ]
    },
    {
      "cell_type": "code",
      "execution_count": null,
      "metadata": {
        "colab": {
          "base_uri": "https://localhost:8080/",
          "height": 362
        },
        "id": "jxzP6fJnbKyf",
        "outputId": "5b9ec0ac-1112-4db6-db94-364b4e5632b3"
      },
      "outputs": [],
      "source": [
        "# image_path = \"/content/drive/MyDrive/Mario/PROJECT WITH CARL/ALL ART/THE MIRACLE.jpg\"\n",
        "image_path = \"/content/CandyLandEdited.jpg\"\n",
        "image = Image(image_path)\n",
        "print(f\"Loaded image with dimensions: {image.shape}\")\n",
        "image.pad_to_square()\n",
        "image.resize((2500,2500))\n",
        "image.show()"
      ]
    },
    {
      "attachments": {},
      "cell_type": "markdown",
      "metadata": {
        "id": "SfP2xexbbV2G"
      },
      "source": [
        "## Step 5\n",
        "Run the image segmentation. The Image class works together with Mask and SegmentedImage to generate an object that contains a set of masked layers.\n",
        "\n",
        "- `SegmentedImage` is constructed with an `Image` object\n",
        "- `SegmentedImage.segment(SamAutomaticMaskGenerator)` runs the segmentation and generates the layers\n",
        "\n",
        "If segmentation is taking an indefinite amount of time, cancel it and tweak the segmentation parameters. The default parameters tend to be fast"
      ]
    },
    {
      "cell_type": "code",
      "execution_count": null,
      "metadata": {
        "id": "w_iL0o1lbP4D"
      },
      "outputs": [],
      "source": [
        "seg_image = SegmentedImage(image)\n",
        "seg_image.segment(mask_generator)\n",
        "print(seg_image)"
      ]
    },
    {
      "attachments": {},
      "cell_type": "markdown",
      "metadata": {
        "id": "5-Uv-SMqb_df"
      },
      "source": [
        "### Visualize Results\n",
        "\n",
        "WARNING: This is currently really inefficient and takes a LONG time"
      ]
    },
    {
      "cell_type": "code",
      "execution_count": null,
      "metadata": {
        "colab": {
          "base_uri": "https://localhost:8080/",
          "height": 457
        },
        "id": "PiQ7Hn5YbUxI",
        "outputId": "99b99661-0ef5-47dd-9849-97203861df28"
      },
      "outputs": [],
      "source": [
        "masks_image = seg_image.visualize_masks(0.7)\n",
        "masks_image.show(figsize=(5,5))"
      ]
    },
    {
      "cell_type": "code",
      "execution_count": null,
      "metadata": {
        "id": "xR0cH82FG1Ai"
      },
      "outputs": [],
      "source": [
        "from ipywidgets import interact\n",
        "import matplotlib.pyplot as plt\n",
        "from IPython.display import display, clear_output\n",
        "\n",
        "print(f'Getting Masks')\n",
        "masks = seg_image.get_masks_by_area()\n",
        "\n",
        "@interact(mask_idx=(0,len(masks)))\n",
        "def visualize_mask(mask_idx=0):\n",
        "  print(f'{mask_idx}')\n",
        "  masks[mask_idx].show(title=f'Mask {mask_idx}')"
      ]
    },
    {
      "attachments": {},
      "cell_type": "markdown",
      "metadata": {
        "id": "SyrwUbm2BIQ7"
      },
      "source": [
        "Show the \"background,\" which is any area that has not been segmented"
      ]
    },
    {
      "cell_type": "code",
      "execution_count": null,
      "metadata": {
        "colab": {
          "base_uri": "https://localhost:8080/",
          "height": 422
        },
        "id": "Nk4qz8BAVlwf",
        "outputId": "bf867ff3-a5e6-46bf-d996-caf944bd09f1"
      },
      "outputs": [],
      "source": [
        "seg_image.get_background().show((5,5))"
      ]
    },
    {
      "attachments": {},
      "cell_type": "markdown",
      "metadata": {
        "id": "8KYqPQNVJmcY"
      },
      "source": [
        "## Step 6\n",
        "Export the bundled SVG, which will trace the paths into SVG paths, simplify the paths, and write the image to the background layer. It will also write another image layer if you choose to use inpainting."
      ]
    },
    {
      "cell_type": "code",
      "execution_count": null,
      "metadata": {
        "colab": {
          "base_uri": "https://localhost:8080/"
        },
        "id": "gbHzMIBU2Cw9",
        "outputId": "12ca546e-3b60-482f-c631-38c0d809dfc3"
      },
      "outputs": [],
      "source": [
        "export_bundle(seg_image, \"BastionPebble\", \"/content/drive/MyDrive/Mario/SVGBundles\")"
      ]
    },
    {
      "attachments": {},
      "cell_type": "markdown",
      "metadata": {
        "id": "nVsmFbfI5XeO"
      },
      "source": [
        "## Step 7 (Optional)\n",
        "Do some inpainting on the image - provide the image and mask, and it will fill in the rest. This can be cool if the final product is a parallaxed SVG, where when the background is revealed, it reveals more imagery that looks like a background, rather than a hole, or a copy of the image piece above it. \n",
        "\n",
        "- WARNING: This takes a lot of GPU Memory since there are two models loaded in. If this is running on colab, the session may crash.\n",
        "\n",
        "First, we can try to create a new background by inpainting any of the areas leftover from the segmentation"
      ]
    },
    {
      "cell_type": "code",
      "execution_count": null,
      "metadata": {
        "id": "wMERXy8a4tT7"
      },
      "outputs": [],
      "source": [
        "from inpainting import inpaint_image\n",
        "from utils import dilate_mask"
      ]
    },
    {
      "attachments": {},
      "cell_type": "markdown",
      "metadata": {
        "id": "kLr-rGRQ8L0K"
      },
      "source": [
        "You can choose to dilate the mask or not. Dilation will ensure the edges extend out further than the original, so it has more coverage."
      ]
    },
    {
      "cell_type": "code",
      "execution_count": null,
      "metadata": {
        "id": "mFwBE7lRYFKR"
      },
      "outputs": [],
      "source": [
        "# uncomment one or the other\n",
        "mask = Mask(dilate_mask(seg_image.unmasked_area_mask().invert().get_writeable_data(), 3))\n",
        "# mask = seg_image.unmasked_area_mask().invert()"
      ]
    },
    {
      "attachments": {},
      "cell_type": "markdown",
      "metadata": {
        "id": "CUh-4rLe8UJV"
      },
      "source": [
        "Run the inpainting with a prompt, providing whatever mask you want as the area to inpaint"
      ]
    },
    {
      "cell_type": "code",
      "execution_count": null,
      "metadata": {
        "id": "NZOreJWV4zUM"
      },
      "outputs": [],
      "source": [
        "prompt = \"an empty field\"\n",
        "\n",
        "result_image = inpaint_image(seg_image.get_background(), mask, prompt)\n",
        "result_image.show(figsize=(8,8))"
      ]
    },
    {
      "cell_type": "code",
      "execution_count": null,
      "metadata": {
        "colab": {
          "base_uri": "https://localhost:8080/"
        },
        "id": "J7XAtmS6XOxm",
        "outputId": "2e803559-d34f-4d19-8302-cd33b14568b1"
      },
      "outputs": [],
      "source": [
        "result_image.save(\"/content/drive/MyDrive/Mario/Generative/meet-me-at-shasta-bg-2.png\")"
      ]
    },
    {
      "attachments": {},
      "cell_type": "markdown",
      "metadata": {
        "id": "TbXHTpWa9LpB"
      },
      "source": [
        "If this is satisfying for a background, we can set it as the background for our SegmentedImage\n",
        "- SementedImage uses the background (.get_background()) to construct the final output image"
      ]
    },
    {
      "cell_type": "code",
      "execution_count": null,
      "metadata": {
        "id": "1-7wyNcH9LID"
      },
      "outputs": [],
      "source": [
        "seg_image.set_background(result_image)"
      ]
    },
    {
      "attachments": {},
      "cell_type": "markdown",
      "metadata": {
        "id": "Hxze5JSUoVR5"
      },
      "source": [
        "Convert into an SVG with transparent layers"
      ]
    },
    {
      "cell_type": "code",
      "execution_count": null,
      "metadata": {
        "colab": {
          "base_uri": "https://localhost:8080/"
        },
        "id": "VA4E9dCt4BZM",
        "outputId": "f968ed7e-5655-45a5-db35-268ba7a70cca"
      },
      "outputs": [],
      "source": [
        "from product import export_bundle\n",
        "\n",
        "export_bundle(seg_image, \"NecessaryStare\", \"/content/drive/MyDrive/Mario/SVGBundles\")"
      ]
    }
  ],
  "metadata": {
    "accelerator": "GPU",
    "colab": {
      "collapsed_sections": [
        "xlu7X_I_-9gR"
      ],
      "machine_shape": "hm",
      "provenance": []
    },
    "gpuClass": "standard",
    "kernelspec": {
      "display_name": "Python 3",
      "name": "python3"
    },
    "language_info": {
      "name": "python"
    }
  },
  "nbformat": 4,
  "nbformat_minor": 0
}
